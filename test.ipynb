{
 "cells": [
  {
   "cell_type": "code",
   "execution_count": 93,
   "metadata": {},
   "outputs": [
    {
     "ename": "SyntaxError",
     "evalue": "invalid syntax (1653577165.py, line 4)",
     "output_type": "error",
     "traceback": [
      "\u001b[1;36m  Cell \u001b[1;32mIn[93], line 4\u001b[1;36m\u001b[0m\n\u001b[1;33m    You have an input dictionary given,\u001b[0m\n\u001b[1;37m        ^\u001b[0m\n\u001b[1;31mSyntaxError\u001b[0m\u001b[1;31m:\u001b[0m invalid syntax\n"
     ]
    }
   ],
   "source": [
    "Question: 1\n",
    "\n",
    "\n",
    "You have an input dictionary given,\n",
    "input_dict = {\"abc\":{\"def\":{\"ghi\":{\"jkl\":{\"mno\":{\"pqr\":{\"stu\":{\"vwx\":{\"yz\":\"you are finally here !!!\"}}}}}}}}}\n",
    "\n",
    "Task:  You have to write a Python function that will take this input and print it like that,\n",
    "\n",
    "\n",
    "output = {\"abc\":[\"def\",\"ghi\",\"jkl\",\"mno\",\"pqr\",\"stu\",\"vwx\",\"yz\"],\n",
    " \"def\":[\"ghi\",\"jkl\",\"mno\",\"pqr\",\"stu\",\"vwx\",\"yz\"],\n",
    " \"ghi\":[\"jkl\",\"mno\",\"pqr\",\"stu\",\"vwx\",\"yz\"],\n",
    " \"jkl\":[\"mno\",\"pqr\",\"stu\",\"vwx\",\"yz\"],\n",
    " \"mno\":[\"pqr\",\"stu\",\"vwx\",\"yz\"],\n",
    " \"pqr\":[\"stu\",\"vwx\",\"yz\"],\n",
    " \"stu\":[\"vwx\",\"yz\"],\n",
    " \"vwx\":[\"yz\"],\n",
    " \"yz\":[\"you are finally here !!!\"]}"
   ]
  },
  {
   "cell_type": "code",
   "execution_count": null,
   "metadata": {},
   "outputs": [],
   "source": [
    "input_dict = {\"abc\":{\"def\":{\"ghi\":{\"jkl\":{\"mno\":{\"pqr\":{\"stu\":{\"vwx\":{\"yz\":\"you are finally here !!!\"}}}}}}}}}\n",
    "def outputdict(input_dict, newlist=None):\n",
    "    if newlist is None:\n",
    "        newlist = []\n",
    "\n",
    "    output={}\n",
    "    for key, value in input_dict.items():\n",
    "        newlist.append(key)\n",
    "\n",
    "        if isinstance(value, dict):\n",
    "            innerdic = outputdict(value, newlist.copy())\n",
    "            output[key]=list(innerdic.keys())\n",
    "            output.update(innerdic)\n",
    "        else:\n",
    "            output[key]=[value]\n",
    "\n",
    "    return output\n",
    "\n",
    "\n"
   ]
  },
  {
   "cell_type": "code",
   "execution_count": null,
   "metadata": {},
   "outputs": [
    {
     "data": {
      "text/plain": [
       "{'abc': ['def', 'ghi', 'jkl', 'mno', 'pqr', 'stu', 'vwx', 'yz'],\n",
       " 'def': ['ghi', 'jkl', 'mno', 'pqr', 'stu', 'vwx', 'yz'],\n",
       " 'ghi': ['jkl', 'mno', 'pqr', 'stu', 'vwx', 'yz'],\n",
       " 'jkl': ['mno', 'pqr', 'stu', 'vwx', 'yz'],\n",
       " 'mno': ['pqr', 'stu', 'vwx', 'yz'],\n",
       " 'pqr': ['stu', 'vwx', 'yz'],\n",
       " 'stu': ['vwx', 'yz'],\n",
       " 'vwx': ['yz'],\n",
       " 'yz': ['you are finally here !!!']}"
      ]
     },
     "execution_count": 91,
     "metadata": {},
     "output_type": "execute_result"
    }
   ],
   "source": [
    "outputdict(input_dict)"
   ]
  },
  {
   "cell_type": "code",
   "execution_count": null,
   "metadata": {},
   "outputs": [
    {
     "name": "stdout",
     "output_type": "stream",
     "text": [
      "abc: ['def', 'ghi', 'jkl', 'mno', 'pqr', 'stu', 'vwx', 'yz']\n",
      "def: ['ghi', 'jkl', 'mno', 'pqr', 'stu', 'vwx', 'yz']\n",
      "ghi: ['jkl', 'mno', 'pqr', 'stu', 'vwx', 'yz']\n",
      "jkl: ['mno', 'pqr', 'stu', 'vwx', 'yz']\n",
      "mno: ['pqr', 'stu', 'vwx', 'yz']\n",
      "pqr: ['stu', 'vwx', 'yz']\n",
      "stu: ['vwx', 'yz']\n",
      "vwx: ['yz']\n",
      "yz: ['you are finally here !!!']\n"
     ]
    }
   ],
   "source": [
    "# to print this thing in similar manner we can also do this\n",
    "dii=outputdict(input_dict)\n",
    "for k,v in dii.items():\n",
    "    print(f'{k}: {v}')"
   ]
  },
  {
   "cell_type": "code",
   "execution_count": null,
   "metadata": {},
   "outputs": [],
   "source": [
    "Question: 2\n",
    "\n",
    "\n",
    "Given an array of length ‘N’, where each element denotes the position of a stall. Now you have ‘N’ stalls and an integer ‘K’ which denotes the number of horses that are mad. To prevent the horses from hurting each other, you need to assign the horses to the stalls, such that the minimum distance between any two of them is as large as possible. Return the largest minimum distance.\n",
    "\n",
    "array: 1,2,4,8,9  &  k=3\n",
    "\n",
    "O/P: 3\n",
    "\n",
    "Explanation: 1st horse at stall 1, 2nd horse at stall 4 and 3rd horse at stall 8"
   ]
  },
  {
   "cell_type": "code",
   "execution_count": 177,
   "metadata": {},
   "outputs": [
    {
     "name": "stdout",
     "output_type": "stream",
     "text": [
      "3\n"
     ]
    }
   ],
   "source": [
    "def is_possible(stalls, k, distance):\n",
    "    horses_placed = 1\n",
    "    last_position = stalls[0]\n",
    "    \n",
    "    for i in range(1, len(stalls)):\n",
    "        if stalls[i] - last_position >= distance:\n",
    "            horses_placed += 1\n",
    "            last_position = stalls[i]\n",
    "            if horses_placed == k:\n",
    "                return True\n",
    "    \n",
    "    return False\n",
    "\n",
    "def largest_minimum_distance(stalls, k):\n",
    "    stalls.sort()\n",
    "    low = 0\n",
    "    high = stalls[-1] - stalls[0]\n",
    "    \n",
    "    while low <= high:\n",
    "        mid = low + (high - low) // 2\n",
    "        if is_possible(stalls, k, mid):\n",
    "            low = mid + 1\n",
    "        else:\n",
    "            high = mid - 1\n",
    "    \n",
    "    return high  \n",
    "\n",
    "stalls = [1, 2, 4, 8, 9]\n",
    "k = 3\n",
    "print(largest_minimum_distance(stalls, k))"
   ]
  },
  {
   "cell_type": "code",
   "execution_count": 211,
   "metadata": {},
   "outputs": [
    {
     "name": "stdout",
     "output_type": "stream",
     "text": [
      "------------------------------------------------.|.------------------------------------------------\n",
      "---------------------------------------------.|..|..|.---------------------------------------------\n",
      "------------------------------------------.|..|..|..|..|.------------------------------------------\n",
      "---------------------------------------.|..|..|..|..|..|..|.---------------------------------------\n",
      "------------------------------------.|..|..|..|..|..|..|..|..|.------------------------------------\n",
      "---------------------------------.|..|..|..|..|..|..|..|..|..|..|.---------------------------------\n",
      "------------------------------.|..|..|..|..|..|..|..|..|..|..|..|..|.------------------------------\n",
      "---------------------------.|..|..|..|..|..|..|..|..|..|..|..|..|..|..|.---------------------------\n",
      "------------------------.|..|..|..|..|..|..|..|..|..|..|..|..|..|..|..|..|.------------------------\n",
      "---------------------.|..|..|..|..|..|..|..|..|..|..|..|..|..|..|..|..|..|..|.---------------------\n",
      "------------------.|..|..|..|..|..|..|..|..|..|..|..|..|..|..|..|..|..|..|..|..|.------------------\n",
      "---------------.|..|..|..|..|..|..|..|..|..|..|..|..|..|..|..|..|..|..|..|..|..|..|.---------------\n",
      "------------.|..|..|..|..|..|..|..|..|..|..|..|..|..|..|..|..|..|..|..|..|..|..|..|..|.------------\n",
      "---------.|..|..|..|..|..|..|..|..|..|..|..|..|..|..|..|..|..|..|..|..|..|..|..|..|..|..|.---------\n",
      "------.|..|..|..|..|..|..|..|..|..|..|..|..|..|..|..|..|..|..|..|..|..|..|..|..|..|..|..|..|.------\n",
      "---.|..|..|..|..|..|..|..|..|..|..|..|..|..|..|..|..|..|..|..|..|..|..|..|..|..|..|..|..|..|..|.---\n",
      "----------------------------------------------WELCOME----------------------------------------------\n",
      "---.|..|..|..|..|..|..|..|..|..|..|..|..|..|..|..|..|..|..|..|..|..|..|..|..|..|..|..|..|..|..|.---\n",
      "------.|..|..|..|..|..|..|..|..|..|..|..|..|..|..|..|..|..|..|..|..|..|..|..|..|..|..|..|..|.------\n",
      "---------.|..|..|..|..|..|..|..|..|..|..|..|..|..|..|..|..|..|..|..|..|..|..|..|..|..|..|.---------\n",
      "------------.|..|..|..|..|..|..|..|..|..|..|..|..|..|..|..|..|..|..|..|..|..|..|..|..|.------------\n",
      "---------------.|..|..|..|..|..|..|..|..|..|..|..|..|..|..|..|..|..|..|..|..|..|..|.---------------\n",
      "------------------.|..|..|..|..|..|..|..|..|..|..|..|..|..|..|..|..|..|..|..|..|.------------------\n",
      "---------------------.|..|..|..|..|..|..|..|..|..|..|..|..|..|..|..|..|..|..|.---------------------\n",
      "------------------------.|..|..|..|..|..|..|..|..|..|..|..|..|..|..|..|..|.------------------------\n",
      "---------------------------.|..|..|..|..|..|..|..|..|..|..|..|..|..|..|.---------------------------\n",
      "------------------------------.|..|..|..|..|..|..|..|..|..|..|..|..|.------------------------------\n",
      "---------------------------------.|..|..|..|..|..|..|..|..|..|..|.---------------------------------\n",
      "------------------------------------.|..|..|..|..|..|..|..|..|.------------------------------------\n",
      "---------------------------------------.|..|..|..|..|..|..|.---------------------------------------\n",
      "------------------------------------------.|..|..|..|..|.------------------------------------------\n",
      "---------------------------------------------.|..|..|.---------------------------------------------\n",
      "------------------------------------------------.|.------------------------------------------------\n"
     ]
    }
   ],
   "source": [
    "def pattern(n):\n",
    "    m=n*3\n",
    "    r=int((n-1)/2)\n",
    "    for i in range(0,r):\n",
    "        for j in range(0,r-i):\n",
    "            print ('---', end=\"\")\n",
    "        for j in range(i,i*3+1):\n",
    "            print('.|.', end=\"\")\n",
    "        for j in range(i,r):\n",
    "            print ('---', end=\"\")\n",
    "        print()\n",
    "    \n",
    "    print ('-'*int((m-7)/2), end=\"\")\n",
    "    print ('WELCOME', end=\"\")\n",
    "    print ('-'*int((m-7)/2))\n",
    "\n",
    "    for i in range(0,r):\n",
    "        for j in range(0,i+1):\n",
    "            print ('---', end=\"\")\n",
    "        for j in range(0,(n-2)-(i*2)):\n",
    "            print('.|.', end=\"\")\n",
    "        for j in range(0,i+1):\n",
    "            print ('---', end=\"\")\n",
    "\n",
    "        print()\n",
    "\n",
    "pattern(33)"
   ]
  },
  {
   "cell_type": "code",
   "execution_count": null,
   "metadata": {},
   "outputs": [],
   "source": [
    "Given an array nums of n integers, return an array of all the unique quadruplets [nums[a], nums[b], nums[c], nums[d]] such that:\n",
    "\n",
    "   a) 0 <= a, b, c, d < n\n",
    "   b) a, b, c, and d are distinct.\n",
    "   c) nums[a] + nums[b] + nums[c] + nums[d] == target"
   ]
  },
  {
   "cell_type": "code",
   "execution_count": 212,
   "metadata": {},
   "outputs": [
    {
     "name": "stdout",
     "output_type": "stream",
     "text": [
      "[[3, 6, 7, 34], [4, 5, 7, 34], [4, 6, 6, 34], [5, 5, 6, 34]]\n"
     ]
    }
   ],
   "source": [
    "def four_sum(nums, target):\n",
    "    nums.sort()\n",
    "    quadruplets = []\n",
    "    n = len(nums)\n",
    "    \n",
    "    for i in range(n - 3):\n",
    "        if i > 0 and nums[i] == nums[i - 1]:\n",
    "            continue\n",
    "        \n",
    "        for j in range(i + 1, n - 2):\n",
    "            if j > i + 1 and nums[j] == nums[j - 1]:\n",
    "                continue\n",
    "            \n",
    "            left = j + 1\n",
    "            right = n - 1\n",
    "            \n",
    "            while left < right:\n",
    "                total = nums[i] + nums[j] + nums[left] + nums[right]\n",
    "                \n",
    "                if total == target:\n",
    "                    quadruplets.append([nums[i], nums[j], nums[left], nums[right]])\n",
    "                    \n",
    "                    while left < right and nums[left] == nums[left + 1]:\n",
    "                        left += 1\n",
    "                    while left < right and nums[right] == nums[right - 1]:\n",
    "                        right -= 1\n",
    "                        \n",
    "                    left += 1\n",
    "                    right -= 1\n",
    "                elif total < target:\n",
    "                    left += 1\n",
    "                else:\n",
    "                    right -= 1\n",
    "    \n",
    "    return quadruplets\n",
    "\n",
    "nums = [4,4,3,5,6,6,7,77,6,5,53,5,4,54,6,5,6,5,46,78,7,6,5,4,53,6,5,46,7,75,65,5,76,5,54,5,34,54,3,5,34]\n",
    "target = 50\n",
    "print(four_sum(nums, target))\n"
   ]
  },
  {
   "cell_type": "code",
   "execution_count": null,
   "metadata": {},
   "outputs": [],
   "source": []
  },
  {
   "cell_type": "code",
   "execution_count": null,
   "metadata": {},
   "outputs": [],
   "source": []
  },
  {
   "cell_type": "code",
   "execution_count": null,
   "metadata": {},
   "outputs": [],
   "source": []
  },
  {
   "cell_type": "code",
   "execution_count": null,
   "metadata": {},
   "outputs": [],
   "source": []
  },
  {
   "cell_type": "code",
   "execution_count": null,
   "metadata": {},
   "outputs": [],
   "source": []
  },
  {
   "cell_type": "code",
   "execution_count": null,
   "metadata": {},
   "outputs": [],
   "source": []
  },
  {
   "cell_type": "code",
   "execution_count": null,
   "metadata": {},
   "outputs": [],
   "source": []
  },
  {
   "cell_type": "code",
   "execution_count": null,
   "metadata": {},
   "outputs": [],
   "source": []
  },
  {
   "cell_type": "code",
   "execution_count": null,
   "metadata": {},
   "outputs": [],
   "source": []
  },
  {
   "cell_type": "code",
   "execution_count": null,
   "metadata": {},
   "outputs": [],
   "source": []
  },
  {
   "cell_type": "code",
   "execution_count": null,
   "metadata": {},
   "outputs": [],
   "source": []
  },
  {
   "cell_type": "code",
   "execution_count": null,
   "metadata": {},
   "outputs": [],
   "source": []
  },
  {
   "cell_type": "code",
   "execution_count": null,
   "metadata": {},
   "outputs": [],
   "source": []
  },
  {
   "cell_type": "code",
   "execution_count": null,
   "metadata": {},
   "outputs": [],
   "source": []
  },
  {
   "cell_type": "code",
   "execution_count": null,
   "metadata": {},
   "outputs": [],
   "source": []
  },
  {
   "cell_type": "code",
   "execution_count": null,
   "metadata": {},
   "outputs": [],
   "source": []
  },
  {
   "cell_type": "code",
   "execution_count": null,
   "metadata": {},
   "outputs": [],
   "source": []
  },
  {
   "cell_type": "code",
   "execution_count": null,
   "metadata": {},
   "outputs": [],
   "source": []
  },
  {
   "cell_type": "markdown",
   "metadata": {},
   "source": [
    "#Correlation\n",
    "\n",
    "Correlation is a statistical measure that describes the degree of association or relationship between two variables. It indicates whether and how strongly the variables change together. Correlation values range from -1 to 1:\n",
    "\n",
    "1: Perfect positive correlation (as one variable increases, the other variable increases proportionally).\n",
    "0: No correlation (the variables are independent of each other).\n",
    "-1: Perfect negative correlation (as one variable increases, the other variable decreases proportionally).\n",
    "\n",
    "As the example needs to be in a jupyter notebook, please check the IPYNB file present in the folder and search “Correlation”\n"
   ]
  },
  {
   "cell_type": "code",
   "execution_count": 213,
   "metadata": {},
   "outputs": [],
   "source": [
    "import seaborn as sns"
   ]
  },
  {
   "cell_type": "code",
   "execution_count": 225,
   "metadata": {},
   "outputs": [],
   "source": [
    "df=sns.load_dataset('diamonds')"
   ]
  },
  {
   "cell_type": "code",
   "execution_count": 227,
   "metadata": {},
   "outputs": [],
   "source": [
    "df2=df.select_dtypes(exclude='category').corr()"
   ]
  },
  {
   "cell_type": "code",
   "execution_count": 230,
   "metadata": {},
   "outputs": [
    {
     "data": {
      "text/html": [
       "<div>\n",
       "<style scoped>\n",
       "    .dataframe tbody tr th:only-of-type {\n",
       "        vertical-align: middle;\n",
       "    }\n",
       "\n",
       "    .dataframe tbody tr th {\n",
       "        vertical-align: top;\n",
       "    }\n",
       "\n",
       "    .dataframe thead th {\n",
       "        text-align: right;\n",
       "    }\n",
       "</style>\n",
       "<table border=\"1\" class=\"dataframe\">\n",
       "  <thead>\n",
       "    <tr style=\"text-align: right;\">\n",
       "      <th></th>\n",
       "      <th>carat</th>\n",
       "      <th>depth</th>\n",
       "      <th>table</th>\n",
       "      <th>price</th>\n",
       "      <th>x</th>\n",
       "      <th>y</th>\n",
       "      <th>z</th>\n",
       "    </tr>\n",
       "  </thead>\n",
       "  <tbody>\n",
       "    <tr>\n",
       "      <th>carat</th>\n",
       "      <td>1.000000</td>\n",
       "      <td>0.028224</td>\n",
       "      <td>0.181618</td>\n",
       "      <td>0.921591</td>\n",
       "      <td>0.975094</td>\n",
       "      <td>0.951722</td>\n",
       "      <td>0.953387</td>\n",
       "    </tr>\n",
       "    <tr>\n",
       "      <th>depth</th>\n",
       "      <td>0.028224</td>\n",
       "      <td>1.000000</td>\n",
       "      <td>-0.295779</td>\n",
       "      <td>-0.010647</td>\n",
       "      <td>-0.025289</td>\n",
       "      <td>-0.029341</td>\n",
       "      <td>0.094924</td>\n",
       "    </tr>\n",
       "    <tr>\n",
       "      <th>table</th>\n",
       "      <td>0.181618</td>\n",
       "      <td>-0.295779</td>\n",
       "      <td>1.000000</td>\n",
       "      <td>0.127134</td>\n",
       "      <td>0.195344</td>\n",
       "      <td>0.183760</td>\n",
       "      <td>0.150929</td>\n",
       "    </tr>\n",
       "    <tr>\n",
       "      <th>price</th>\n",
       "      <td>0.921591</td>\n",
       "      <td>-0.010647</td>\n",
       "      <td>0.127134</td>\n",
       "      <td>1.000000</td>\n",
       "      <td>0.884435</td>\n",
       "      <td>0.865421</td>\n",
       "      <td>0.861249</td>\n",
       "    </tr>\n",
       "    <tr>\n",
       "      <th>x</th>\n",
       "      <td>0.975094</td>\n",
       "      <td>-0.025289</td>\n",
       "      <td>0.195344</td>\n",
       "      <td>0.884435</td>\n",
       "      <td>1.000000</td>\n",
       "      <td>0.974701</td>\n",
       "      <td>0.970772</td>\n",
       "    </tr>\n",
       "    <tr>\n",
       "      <th>y</th>\n",
       "      <td>0.951722</td>\n",
       "      <td>-0.029341</td>\n",
       "      <td>0.183760</td>\n",
       "      <td>0.865421</td>\n",
       "      <td>0.974701</td>\n",
       "      <td>1.000000</td>\n",
       "      <td>0.952006</td>\n",
       "    </tr>\n",
       "    <tr>\n",
       "      <th>z</th>\n",
       "      <td>0.953387</td>\n",
       "      <td>0.094924</td>\n",
       "      <td>0.150929</td>\n",
       "      <td>0.861249</td>\n",
       "      <td>0.970772</td>\n",
       "      <td>0.952006</td>\n",
       "      <td>1.000000</td>\n",
       "    </tr>\n",
       "  </tbody>\n",
       "</table>\n",
       "</div>"
      ],
      "text/plain": [
       "          carat     depth     table     price         x         y         z\n",
       "carat  1.000000  0.028224  0.181618  0.921591  0.975094  0.951722  0.953387\n",
       "depth  0.028224  1.000000 -0.295779 -0.010647 -0.025289 -0.029341  0.094924\n",
       "table  0.181618 -0.295779  1.000000  0.127134  0.195344  0.183760  0.150929\n",
       "price  0.921591 -0.010647  0.127134  1.000000  0.884435  0.865421  0.861249\n",
       "x      0.975094 -0.025289  0.195344  0.884435  1.000000  0.974701  0.970772\n",
       "y      0.951722 -0.029341  0.183760  0.865421  0.974701  1.000000  0.952006\n",
       "z      0.953387  0.094924  0.150929  0.861249  0.970772  0.952006  1.000000"
      ]
     },
     "execution_count": 230,
     "metadata": {},
     "output_type": "execute_result"
    }
   ],
   "source": [
    "df2"
   ]
  },
  {
   "cell_type": "code",
   "execution_count": 229,
   "metadata": {},
   "outputs": [
    {
     "data": {
      "text/plain": [
       "<Axes: >"
      ]
     },
     "execution_count": 229,
     "metadata": {},
     "output_type": "execute_result"
    },
    {
     "data": {
      "image/png": "[encoded data removed]",
      "text/plain": [
       "<Figure size 640x480 with 2 Axes>"
      ]
     },
     "metadata": {},
     "output_type": "display_data"
    }
   ],
   "source": [
    "sns.heatmap(df2, annot=True, cmap='coolwarm')"
   ]
  },
  {
   "cell_type": "markdown",
   "metadata": {},
   "source": [
    " this heatmap is showing a correlation with some of the diamond properties to each other.\n",
    "\n",
    " The number in each square tell about the correaltiona s well as its color shows the same thing\n",
    "\n",
    " if the number is closer to +1 \n",
    " Perfect positive correlation (as one variable increases, the other variable increases proportionally).\n",
    "\n",
    " if the number is closer to -1\n",
    " -1: Perfect negative correlation (as one variable increases, the other variable decreases proportionally).\n",
    "\n",
    "if it is 0 No correlation (the variables are independent of each other)."
   ]
  },
  {
   "cell_type": "code",
   "execution_count": null,
   "metadata": {},
   "outputs": [],
   "source": []
  }
 ],
 "metadata": {
  "kernelspec": {
   "display_name": "Python 3",
   "language": "python",
   "name": "python3"
  },
  "language_info": {
   "codemirror_mode": {
    "name": "ipython",
    "version": 3
   },
   "file_extension": ".py",
   "mimetype": "text/x-python",
   "name": "python",
   "nbconvert_exporter": "python",
   "pygments_lexer": "ipython3",
   "version": "3.12.2"
  }
 },
 "nbformat": 4,
 "nbformat_minor": 2
}
